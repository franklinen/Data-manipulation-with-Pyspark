{
  "nbformat": 4,
  "nbformat_minor": 0,
  "metadata": {
    "colab": {
      "name": "Challenge.ipynb",
      "provenance": []
    },
    "kernelspec": {
      "name": "python3",
      "display_name": "Python 3"
    }
  },
  "cells": [
    {
      "cell_type": "code",
      "metadata": {
        "colab": {
          "base_uri": "https://localhost:8080/",
          "height": 682
        },
        "id": "j4-_dD9fxXXI",
        "outputId": "c9e261a4-93f4-433e-c60d-47bbe9d91738"
      },
      "source": [
        "!apt-get update\r\n",
        "!apt-get install openjdk-8-jdk-headless -qq > /dev/null\r\n",
        "!wget -q http://archive.apache.org/dist/spark/spark-2.3.1/spark-2.3.1-bin-hadoop2.7.tgz\r\n",
        "!tar xf spark-2.3.1-bin-hadoop2.7.tgz\r\n",
        "!pip install -q findspark\r\n",
        "\r\n",
        "import os\r\n",
        "os.environ[\"JAVA_HOME\"] = \"/usr/lib/jvm/java-8-openjdk-amd64\"\r\n",
        "os.environ[\"SPARK_HOME\"] = \"/content/spark-2.3.1-bin-hadoop2.7\"\r\n",
        "\r\n",
        "!ls\r\n",
        "\r\n",
        "import findspark\r\n",
        "findspark.init()\r\n",
        "\r\n",
        "import pyspark\r\n",
        "from pyspark.sql import SparkSession\r\n",
        "spark = SparkSession.builder.getOrCreate() \r\n",
        "spark"
      ],
      "execution_count": 1,
      "outputs": [
        {
          "output_type": "stream",
          "text": [
            "\r0% [Working]\r            \rIgn:1 https://developer.download.nvidia.com/compute/cuda/repos/ubuntu1804/x86_64  InRelease\n",
            "\r0% [Waiting for headers] [Waiting for headers] [Connected to cloud.r-project.or\r                                                                               \rGet:2 https://cloud.r-project.org/bin/linux/ubuntu bionic-cran40/ InRelease [3,626 B]\n",
            "\r0% [Waiting for headers] [Waiting for headers] [2 InRelease 0 B/3,626 B 0%] [Wa\r0% [Waiting for headers] [Waiting for headers] [Waiting for headers] [Waiting f\r0% [2 InRelease gpgv 3,626 B] [Waiting for headers] [Waiting for headers] [Wait\r                                                                               \rGet:3 http://security.ubuntu.com/ubuntu bionic-security InRelease [88.7 kB]\n",
            "\r0% [2 InRelease gpgv 3,626 B] [Waiting for headers] [3 InRelease 2,589 B/88.7 k\r                                                                               \rHit:4 http://archive.ubuntu.com/ubuntu bionic InRelease\n",
            "\r0% [2 InRelease gpgv 3,626 B] [3 InRelease 2,589 B/88.7 kB 3%] [Waiting for hea\r                                                                               \rGet:5 http://ppa.launchpad.net/c2d4u.team/c2d4u4.0+/ubuntu bionic InRelease [15.9 kB]\n",
            "\r0% [2 InRelease gpgv 3,626 B] [Waiting for headers] [3 InRelease 2,589 B/88.7 k\r                                                                               \rIgn:6 https://developer.download.nvidia.com/compute/machine-learning/repos/ubuntu1804/x86_64  InRelease\n",
            "\r0% [2 InRelease gpgv 3,626 B] [Waiting for headers] [3 InRelease 14.2 kB/88.7 k\r                                                                               \rGet:7 https://developer.download.nvidia.com/compute/cuda/repos/ubuntu1804/x86_64  Release [697 B]\n",
            "\r0% [2 InRelease gpgv 3,626 B] [Waiting for headers] [3 InRelease 14.2 kB/88.7 k\r0% [2 InRelease gpgv 3,626 B] [Waiting for headers] [3 InRelease 14.2 kB/88.7 k\r                                                                               \rHit:8 https://developer.download.nvidia.com/compute/machine-learning/repos/ubuntu1804/x86_64  Release\n",
            "Get:9 https://developer.download.nvidia.com/compute/cuda/repos/ubuntu1804/x86_64  Release.gpg [836 B]\n",
            "Get:10 http://archive.ubuntu.com/ubuntu bionic-updates InRelease [88.7 kB]\n",
            "Hit:11 http://ppa.launchpad.net/cran/libgit2/ubuntu bionic InRelease\n",
            "Get:12 http://archive.ubuntu.com/ubuntu bionic-backports InRelease [74.6 kB]\n",
            "Get:13 https://cloud.r-project.org/bin/linux/ubuntu bionic-cran40/ Packages [49.4 kB]\n",
            "Hit:14 http://ppa.launchpad.net/deadsnakes/ppa/ubuntu bionic InRelease\n",
            "Hit:15 http://ppa.launchpad.net/graphics-drivers/ppa/ubuntu bionic InRelease\n",
            "Ign:17 https://developer.download.nvidia.com/compute/cuda/repos/ubuntu1804/x86_64  Packages\n",
            "Get:17 https://developer.download.nvidia.com/compute/cuda/repos/ubuntu1804/x86_64  Packages [603 kB]\n",
            "Get:18 http://ppa.launchpad.net/c2d4u.team/c2d4u4.0+/ubuntu bionic/main Sources [1,746 kB]\n",
            "Get:19 http://security.ubuntu.com/ubuntu bionic-security/restricted amd64 Packages [333 kB]\n",
            "Get:20 http://security.ubuntu.com/ubuntu bionic-security/universe amd64 Packages [1,398 kB]\n",
            "Get:21 http://ppa.launchpad.net/c2d4u.team/c2d4u4.0+/ubuntu bionic/main amd64 Packages [894 kB]\n",
            "Get:22 http://security.ubuntu.com/ubuntu bionic-security/main amd64 Packages [1,995 kB]\n",
            "Get:23 http://archive.ubuntu.com/ubuntu bionic-updates/universe amd64 Packages [2,165 kB]\n",
            "Get:24 http://archive.ubuntu.com/ubuntu bionic-updates/main amd64 Packages [2,425 kB]\n",
            "Get:25 http://archive.ubuntu.com/ubuntu bionic-updates/restricted amd64 Packages [363 kB]\n",
            "Fetched 12.2 MB in 4s (3,100 kB/s)\n",
            "Reading package lists... Done\n",
            "sample_data  spark-2.3.1-bin-hadoop2.7\tspark-2.3.1-bin-hadoop2.7.tgz\n"
          ],
          "name": "stdout"
        },
        {
          "output_type": "execute_result",
          "data": {
            "text/html": [
              "\n",
              "            <div>\n",
              "                <p><b>SparkSession - in-memory</b></p>\n",
              "                \n",
              "        <div>\n",
              "            <p><b>SparkContext</b></p>\n",
              "\n",
              "            <p><a href=\"http://0a47ecbe6748:4040\">Spark UI</a></p>\n",
              "\n",
              "            <dl>\n",
              "              <dt>Version</dt>\n",
              "                <dd><code>v2.3.1</code></dd>\n",
              "              <dt>Master</dt>\n",
              "                <dd><code>local[*]</code></dd>\n",
              "              <dt>AppName</dt>\n",
              "                <dd><code>pyspark-shell</code></dd>\n",
              "            </dl>\n",
              "        </div>\n",
              "        \n",
              "            </div>\n",
              "        "
            ],
            "text/plain": [
              "<pyspark.sql.session.SparkSession at 0x7f9a30d74750>"
            ]
          },
          "metadata": {
            "tags": []
          },
          "execution_count": 1
        }
      ]
    },
    {
      "cell_type": "code",
      "metadata": {
        "colab": {
          "base_uri": "https://localhost:8080/"
        },
        "id": "rkBIBvZg02dL",
        "outputId": "65de9e38-48f9-4971-e5cd-a718aee4c392"
      },
      "source": [
        "from pyspark.sql.types import *\r\n",
        "schema = StructType([\r\n",
        "  StructField('ip_address', StringType()),\r\n",
        "  StructField('Country', StringType()),\r\n",
        "  StructField('domain_name', StringType()),\r\n",
        "  StructField('bytes_used', IntegerType()),\r\n",
        "])\r\n",
        "\r\n",
        "df = spark.read.csv(\"challenge.csv\", header=True, schema=schema)\r\n",
        "df.show()"
      ],
      "execution_count": 2,
      "outputs": [
        {
          "output_type": "stream",
          "text": [
            "+---------------+--------------+-----------------+----------+\n",
            "|     ip_address|       Country|      domain_name|bytes_used|\n",
            "+---------------+--------------+-----------------+----------+\n",
            "|  52.81.192.172|         China| odnoklassniki.ru|       463|\n",
            "| 119.239.207.13|         China|         youtu.be|        51|\n",
            "|  68.69.217.210|         China|        adobe.com|        10|\n",
            "|   7.191.21.223|      Bulgaria|     linkedin.com|       853|\n",
            "|   211.13.10.68|     Indonesia|          hud.gov|        29|\n",
            "|   239.80.21.97|      Suriname|       smh.com.au|       218|\n",
            "|106.214.106.233|       Jamaica|    amazonaws.com|        95|\n",
            "| 127.242.24.138|         China| surveymonkey.com|       123|\n",
            "|     99.2.6.139|Czech Republic|     geocities.jp|       322|\n",
            "|   237.54.11.63|         China|       amazon.com|        83|\n",
            "| 252.141.157.25|         Japan|      cornell.edu|       374|\n",
            "|185.220.128.248|       Belgium|       weebly.com|       389|\n",
            "|   151.77.19.45|   Afghanistan|independent.co.uk|       282|\n",
            "|  9.161.158.225|     Indonesia|    bloglines.com|       726|\n",
            "| 156.144.61.155|Czech Republic|   slideshare.net|       657|\n",
            "|   8.96.188.151|     Indonesia|          ibm.com|       517|\n",
            "|      5.72.7.65|        Mexico|         youtu.be|       877|\n",
            "|227.110.112.144|       Croatia|         ehow.com|       287|\n",
            "|    81.71.28.97|      Thailand|          last.fm|       588|\n",
            "|  9.255.129.184|      Thailand|          mtv.com|       114|\n",
            "+---------------+--------------+-----------------+----------+\n",
            "only showing top 20 rows\n",
            "\n"
          ],
          "name": "stdout"
        }
      ]
    },
    {
      "cell_type": "code",
      "metadata": {
        "colab": {
          "base_uri": "https://localhost:8080/"
        },
        "id": "JiLAW4rc3OEc",
        "outputId": "0029f7f5-3f9c-45cd-e594-32111a8f21c8"
      },
      "source": [
        "from pyspark.sql.functions import *\r\n",
        "df = df.withColumn('mexico', when(df.Country == 'Mexico', 'Yes').otherwise('no'))\r\n",
        "df.show()"
      ],
      "execution_count": 7,
      "outputs": [
        {
          "output_type": "stream",
          "text": [
            "+---------------+--------------+-----------------+----------+------+\n",
            "|     ip_address|       Country|      domain_name|bytes_used|mexico|\n",
            "+---------------+--------------+-----------------+----------+------+\n",
            "|  52.81.192.172|         China| odnoklassniki.ru|       463|    no|\n",
            "| 119.239.207.13|         China|         youtu.be|        51|    no|\n",
            "|  68.69.217.210|         China|        adobe.com|        10|    no|\n",
            "|   7.191.21.223|      Bulgaria|     linkedin.com|       853|    no|\n",
            "|   211.13.10.68|     Indonesia|          hud.gov|        29|    no|\n",
            "|   239.80.21.97|      Suriname|       smh.com.au|       218|    no|\n",
            "|106.214.106.233|       Jamaica|    amazonaws.com|        95|    no|\n",
            "| 127.242.24.138|         China| surveymonkey.com|       123|    no|\n",
            "|     99.2.6.139|Czech Republic|     geocities.jp|       322|    no|\n",
            "|   237.54.11.63|         China|       amazon.com|        83|    no|\n",
            "| 252.141.157.25|         Japan|      cornell.edu|       374|    no|\n",
            "|185.220.128.248|       Belgium|       weebly.com|       389|    no|\n",
            "|   151.77.19.45|   Afghanistan|independent.co.uk|       282|    no|\n",
            "|  9.161.158.225|     Indonesia|    bloglines.com|       726|    no|\n",
            "| 156.144.61.155|Czech Republic|   slideshare.net|       657|    no|\n",
            "|   8.96.188.151|     Indonesia|          ibm.com|       517|    no|\n",
            "|      5.72.7.65|        Mexico|         youtu.be|       877|   Yes|\n",
            "|227.110.112.144|       Croatia|         ehow.com|       287|    no|\n",
            "|    81.71.28.97|      Thailand|          last.fm|       588|    no|\n",
            "|  9.255.129.184|      Thailand|          mtv.com|       114|    no|\n",
            "+---------------+--------------+-----------------+----------+------+\n",
            "only showing top 20 rows\n",
            "\n"
          ],
          "name": "stdout"
        }
      ]
    },
    {
      "cell_type": "code",
      "metadata": {
        "colab": {
          "base_uri": "https://localhost:8080/"
        },
        "id": "2rU-q2Ls4k_M",
        "outputId": "41059907-557d-42ef-ae49-3ea87ad4ad6c"
      },
      "source": [
        "import pyspark.sql.functions as sqlfunc\r\n",
        "df1 = df.groupBy('mexico').agg(sqlfunc.sum('bytes_used'))\r\n",
        "df1.show()"
      ],
      "execution_count": 8,
      "outputs": [
        {
          "output_type": "stream",
          "text": [
            "+------+---------------+\n",
            "|mexico|sum(bytes_used)|\n",
            "+------+---------------+\n",
            "|   Yes|           6293|\n",
            "|    no|         508076|\n",
            "+------+---------------+\n",
            "\n"
          ],
          "name": "stdout"
        }
      ]
    },
    {
      "cell_type": "code",
      "metadata": {
        "colab": {
          "base_uri": "https://localhost:8080/"
        },
        "id": "R0rY-62L5w4E",
        "outputId": "9709ada8-25c7-44f7-d998-650af894d258"
      },
      "source": [
        "import pyspark.sql.functions as sqlfunc\r\n",
        "df1 = df.groupBy('Country').agg(sqlfunc.countDistinct('ip_address').alias('sum of ips'))\r\n",
        "df1.show()"
      ],
      "execution_count": 10,
      "outputs": [
        {
          "output_type": "stream",
          "text": [
            "+-----------+----------+\n",
            "|    Country|sum of ips|\n",
            "+-----------+----------+\n",
            "|       Chad|         1|\n",
            "|     Russia|        56|\n",
            "|   Paraguay|         1|\n",
            "|      Yemen|         1|\n",
            "|     Sweden|        28|\n",
            "|Philippines|        65|\n",
            "|   Malaysia|         5|\n",
            "|     Turkey|         1|\n",
            "|     Malawi|         2|\n",
            "|    Germany|         5|\n",
            "|    Comoros|         1|\n",
            "|Afghanistan|         5|\n",
            "|     Rwanda|         1|\n",
            "|      Sudan|         1|\n",
            "|     France|        21|\n",
            "|     Greece|         8|\n",
            "|  Sri Lanka|         3|\n",
            "|   Dominica|         1|\n",
            "|  Argentina|        14|\n",
            "|    Belgium|         1|\n",
            "+-----------+----------+\n",
            "only showing top 20 rows\n",
            "\n"
          ],
          "name": "stdout"
        }
      ]
    }
  ]
}
{
 "cells": [
  {
   "cell_type": "markdown",
   "metadata": {},
   "source": [
    "### import pyspark  and dependencies"
   ]
  },
  {
   "cell_type": "code",
   "execution_count": 1,
   "metadata": {
    "colab": {
     "base_uri": "https://localhost:8080/",
     "height": 682
    },
    "id": "j4-_dD9fxXXI",
    "outputId": "c9e261a4-93f4-433e-c60d-47bbe9d91738"
   },
   "outputs": [
    {
     "name": "stdout",
     "output_type": "stream",
     "text": [
      "\r",
      "0% [Working]\r",
      "            \r",
      "Ign:1 https://developer.download.nvidia.com/compute/cuda/repos/ubuntu1804/x86_64  InRelease\n",
      "\r",
      "0% [Waiting for headers] [Waiting for headers] [Connected to cloud.r-project.or\r",
      "                                                                               \r",
      "Get:2 https://cloud.r-project.org/bin/linux/ubuntu bionic-cran40/ InRelease [3,626 B]\n",
      "\r",
      "0% [Waiting for headers] [Waiting for headers] [2 InRelease 0 B/3,626 B 0%] [Wa\r",
      "0% [Waiting for headers] [Waiting for headers] [Waiting for headers] [Waiting f\r",
      "0% [2 InRelease gpgv 3,626 B] [Waiting for headers] [Waiting for headers] [Wait\r",
      "                                                                               \r",
      "Get:3 http://security.ubuntu.com/ubuntu bionic-security InRelease [88.7 kB]\n",
      "\r",
      "0% [2 InRelease gpgv 3,626 B] [Waiting for headers] [3 InRelease 2,589 B/88.7 k\r",
      "                                                                               \r",
      "Hit:4 http://archive.ubuntu.com/ubuntu bionic InRelease\n",
      "\r",
      "0% [2 InRelease gpgv 3,626 B] [3 InRelease 2,589 B/88.7 kB 3%] [Waiting for hea\r",
      "                                                                               \r",
      "Get:5 http://ppa.launchpad.net/c2d4u.team/c2d4u4.0+/ubuntu bionic InRelease [15.9 kB]\n",
      "\r",
      "0% [2 InRelease gpgv 3,626 B] [Waiting for headers] [3 InRelease 2,589 B/88.7 k\r",
      "                                                                               \r",
      "Ign:6 https://developer.download.nvidia.com/compute/machine-learning/repos/ubuntu1804/x86_64  InRelease\n",
      "\r",
      "0% [2 InRelease gpgv 3,626 B] [Waiting for headers] [3 InRelease 14.2 kB/88.7 k\r",
      "                                                                               \r",
      "Get:7 https://developer.download.nvidia.com/compute/cuda/repos/ubuntu1804/x86_64  Release [697 B]\n",
      "\r",
      "0% [2 InRelease gpgv 3,626 B] [Waiting for headers] [3 InRelease 14.2 kB/88.7 k\r",
      "0% [2 InRelease gpgv 3,626 B] [Waiting for headers] [3 InRelease 14.2 kB/88.7 k\r",
      "                                                                               \r",
      "Hit:8 https://developer.download.nvidia.com/compute/machine-learning/repos/ubuntu1804/x86_64  Release\n",
      "Get:9 https://developer.download.nvidia.com/compute/cuda/repos/ubuntu1804/x86_64  Release.gpg [836 B]\n",
      "Get:10 http://archive.ubuntu.com/ubuntu bionic-updates InRelease [88.7 kB]\n",
      "Hit:11 http://ppa.launchpad.net/cran/libgit2/ubuntu bionic InRelease\n",
      "Get:12 http://archive.ubuntu.com/ubuntu bionic-backports InRelease [74.6 kB]\n",
      "Get:13 https://cloud.r-project.org/bin/linux/ubuntu bionic-cran40/ Packages [49.4 kB]\n",
      "Hit:14 http://ppa.launchpad.net/deadsnakes/ppa/ubuntu bionic InRelease\n",
      "Hit:15 http://ppa.launchpad.net/graphics-drivers/ppa/ubuntu bionic InRelease\n",
      "Ign:17 https://developer.download.nvidia.com/compute/cuda/repos/ubuntu1804/x86_64  Packages\n",
      "Get:17 https://developer.download.nvidia.com/compute/cuda/repos/ubuntu1804/x86_64  Packages [603 kB]\n",
      "Get:18 http://ppa.launchpad.net/c2d4u.team/c2d4u4.0+/ubuntu bionic/main Sources [1,746 kB]\n",
      "Get:19 http://security.ubuntu.com/ubuntu bionic-security/restricted amd64 Packages [333 kB]\n",
      "Get:20 http://security.ubuntu.com/ubuntu bionic-security/universe amd64 Packages [1,398 kB]\n",
      "Get:21 http://ppa.launchpad.net/c2d4u.team/c2d4u4.0+/ubuntu bionic/main amd64 Packages [894 kB]\n",
      "Get:22 http://security.ubuntu.com/ubuntu bionic-security/main amd64 Packages [1,995 kB]\n",
      "Get:23 http://archive.ubuntu.com/ubuntu bionic-updates/universe amd64 Packages [2,165 kB]\n",
      "Get:24 http://archive.ubuntu.com/ubuntu bionic-updates/main amd64 Packages [2,425 kB]\n",
      "Get:25 http://archive.ubuntu.com/ubuntu bionic-updates/restricted amd64 Packages [363 kB]\n",
      "Fetched 12.2 MB in 4s (3,100 kB/s)\n",
      "Reading package lists... Done\n",
      "sample_data  spark-2.3.1-bin-hadoop2.7\tspark-2.3.1-bin-hadoop2.7.tgz\n"
     ]
    },
    {
     "data": {
      "text/html": [
       "\n",
       "            <div>\n",
       "                <p><b>SparkSession - in-memory</b></p>\n",
       "                \n",
       "        <div>\n",
       "            <p><b>SparkContext</b></p>\n",
       "\n",
       "            <p><a href=\"http://0a47ecbe6748:4040\">Spark UI</a></p>\n",
       "\n",
       "            <dl>\n",
       "              <dt>Version</dt>\n",
       "                <dd><code>v2.3.1</code></dd>\n",
       "              <dt>Master</dt>\n",
       "                <dd><code>local[*]</code></dd>\n",
       "              <dt>AppName</dt>\n",
       "                <dd><code>pyspark-shell</code></dd>\n",
       "            </dl>\n",
       "        </div>\n",
       "        \n",
       "            </div>\n",
       "        "
      ],
      "text/plain": [
       "<pyspark.sql.session.SparkSession at 0x7f9a30d74750>"
      ]
     },
     "execution_count": 1,
     "metadata": {
      "tags": []
     },
     "output_type": "execute_result"
    }
   ],
   "source": [
    "!apt-get update\n",
    "!apt-get install openjdk-8-jdk-headless -qq > /dev/null\n",
    "!wget -q http://archive.apache.org/dist/spark/spark-2.3.1/spark-2.3.1-bin-hadoop2.7.tgz\n",
    "!tar xf spark-2.3.1-bin-hadoop2.7.tgz\n",
    "!pip install -q findspark\n",
    "\n",
    "import os\n",
    "os.environ[\"JAVA_HOME\"] = \"/usr/lib/jvm/java-8-openjdk-amd64\"\n",
    "os.environ[\"SPARK_HOME\"] = \"/content/spark-2.3.1-bin-hadoop2.7\"\n",
    "\n",
    "!ls\n",
    "\n",
    "import findspark\n",
    "findspark.init()\n",
    "\n",
    "import pyspark\n",
    "from pyspark.sql import SparkSession\n",
    "spark = SparkSession.builder.getOrCreate() \n",
    "spark"
   ]
  },
  {
   "cell_type": "markdown",
   "metadata": {},
   "source": [
    "### Construct schema for the dataframe"
   ]
  },
  {
   "cell_type": "code",
   "execution_count": 2,
   "metadata": {
    "colab": {
     "base_uri": "https://localhost:8080/"
    },
    "id": "rkBIBvZg02dL",
    "outputId": "65de9e38-48f9-4971-e5cd-a718aee4c392"
   },
   "outputs": [
    {
     "name": "stdout",
     "output_type": "stream",
     "text": [
      "+---------------+--------------+-----------------+----------+\n",
      "|     ip_address|       Country|      domain_name|bytes_used|\n",
      "+---------------+--------------+-----------------+----------+\n",
      "|  52.81.192.172|         China| odnoklassniki.ru|       463|\n",
      "| 119.239.207.13|         China|         youtu.be|        51|\n",
      "|  68.69.217.210|         China|        adobe.com|        10|\n",
      "|   7.191.21.223|      Bulgaria|     linkedin.com|       853|\n",
      "|   211.13.10.68|     Indonesia|          hud.gov|        29|\n",
      "|   239.80.21.97|      Suriname|       smh.com.au|       218|\n",
      "|106.214.106.233|       Jamaica|    amazonaws.com|        95|\n",
      "| 127.242.24.138|         China| surveymonkey.com|       123|\n",
      "|     99.2.6.139|Czech Republic|     geocities.jp|       322|\n",
      "|   237.54.11.63|         China|       amazon.com|        83|\n",
      "| 252.141.157.25|         Japan|      cornell.edu|       374|\n",
      "|185.220.128.248|       Belgium|       weebly.com|       389|\n",
      "|   151.77.19.45|   Afghanistan|independent.co.uk|       282|\n",
      "|  9.161.158.225|     Indonesia|    bloglines.com|       726|\n",
      "| 156.144.61.155|Czech Republic|   slideshare.net|       657|\n",
      "|   8.96.188.151|     Indonesia|          ibm.com|       517|\n",
      "|      5.72.7.65|        Mexico|         youtu.be|       877|\n",
      "|227.110.112.144|       Croatia|         ehow.com|       287|\n",
      "|    81.71.28.97|      Thailand|          last.fm|       588|\n",
      "|  9.255.129.184|      Thailand|          mtv.com|       114|\n",
      "+---------------+--------------+-----------------+----------+\n",
      "only showing top 20 rows\n",
      "\n"
     ]
    }
   ],
   "source": [
    "from pyspark.sql.types import *\n",
    "schema = StructType([\n",
    "  StructField('ip_address', StringType()),\n",
    "  StructField('Country', StringType()),\n",
    "  StructField('domain_name', StringType()),\n",
    "  StructField('bytes_used', IntegerType()),\n",
    "])\n",
    "\n",
    "df = spark.read.csv(\"challenge.csv\", header=True, schema=schema)\n",
    "df.show()"
   ]
  },
  {
   "cell_type": "markdown",
   "metadata": {},
   "source": [
    "### create column to show if a country is Mexico or not"
   ]
  },
  {
   "cell_type": "code",
   "execution_count": 7,
   "metadata": {
    "colab": {
     "base_uri": "https://localhost:8080/"
    },
    "id": "JiLAW4rc3OEc",
    "outputId": "0029f7f5-3f9c-45cd-e594-32111a8f21c8"
   },
   "outputs": [
    {
     "name": "stdout",
     "output_type": "stream",
     "text": [
      "+---------------+--------------+-----------------+----------+------+\n",
      "|     ip_address|       Country|      domain_name|bytes_used|mexico|\n",
      "+---------------+--------------+-----------------+----------+------+\n",
      "|  52.81.192.172|         China| odnoklassniki.ru|       463|    no|\n",
      "| 119.239.207.13|         China|         youtu.be|        51|    no|\n",
      "|  68.69.217.210|         China|        adobe.com|        10|    no|\n",
      "|   7.191.21.223|      Bulgaria|     linkedin.com|       853|    no|\n",
      "|   211.13.10.68|     Indonesia|          hud.gov|        29|    no|\n",
      "|   239.80.21.97|      Suriname|       smh.com.au|       218|    no|\n",
      "|106.214.106.233|       Jamaica|    amazonaws.com|        95|    no|\n",
      "| 127.242.24.138|         China| surveymonkey.com|       123|    no|\n",
      "|     99.2.6.139|Czech Republic|     geocities.jp|       322|    no|\n",
      "|   237.54.11.63|         China|       amazon.com|        83|    no|\n",
      "| 252.141.157.25|         Japan|      cornell.edu|       374|    no|\n",
      "|185.220.128.248|       Belgium|       weebly.com|       389|    no|\n",
      "|   151.77.19.45|   Afghanistan|independent.co.uk|       282|    no|\n",
      "|  9.161.158.225|     Indonesia|    bloglines.com|       726|    no|\n",
      "| 156.144.61.155|Czech Republic|   slideshare.net|       657|    no|\n",
      "|   8.96.188.151|     Indonesia|          ibm.com|       517|    no|\n",
      "|      5.72.7.65|        Mexico|         youtu.be|       877|   Yes|\n",
      "|227.110.112.144|       Croatia|         ehow.com|       287|    no|\n",
      "|    81.71.28.97|      Thailand|          last.fm|       588|    no|\n",
      "|  9.255.129.184|      Thailand|          mtv.com|       114|    no|\n",
      "+---------------+--------------+-----------------+----------+------+\n",
      "only showing top 20 rows\n",
      "\n"
     ]
    }
   ],
   "source": [
    "from pyspark.sql.functions import *\n",
    "df = df.withColumn('mexico', when(df.Country == 'Mexico', 'Yes').otherwise('no'))\n",
    "df.show()"
   ]
  },
  {
   "cell_type": "markdown",
   "metadata": {},
   "source": [
    "### take an aggregate of the internet bytes used in Mexico  "
   ]
  },
  {
   "cell_type": "code",
   "execution_count": 8,
   "metadata": {
    "colab": {
     "base_uri": "https://localhost:8080/"
    },
    "id": "2rU-q2Ls4k_M",
    "outputId": "41059907-557d-42ef-ae49-3ea87ad4ad6c"
   },
   "outputs": [
    {
     "name": "stdout",
     "output_type": "stream",
     "text": [
      "+------+---------------+\n",
      "|mexico|sum(bytes_used)|\n",
      "+------+---------------+\n",
      "|   Yes|           6293|\n",
      "|    no|         508076|\n",
      "+------+---------------+\n",
      "\n"
     ]
    }
   ],
   "source": [
    "import pyspark.sql.functions as sqlfunc\n",
    "df1 = df.groupBy('mexico').agg(sqlfunc.sum('bytes_used'))\n",
    "df1.show()"
   ]
  },
  {
   "cell_type": "markdown",
   "metadata": {},
   "source": [
    "### Count distinct number of ip addresses for each country"
   ]
  },
  {
   "cell_type": "code",
   "execution_count": 10,
   "metadata": {
    "colab": {
     "base_uri": "https://localhost:8080/"
    },
    "id": "R0rY-62L5w4E",
    "outputId": "9709ada8-25c7-44f7-d998-650af894d258"
   },
   "outputs": [
    {
     "name": "stdout",
     "output_type": "stream",
     "text": [
      "+-----------+----------+\n",
      "|    Country|sum of ips|\n",
      "+-----------+----------+\n",
      "|       Chad|         1|\n",
      "|     Russia|        56|\n",
      "|   Paraguay|         1|\n",
      "|      Yemen|         1|\n",
      "|     Sweden|        28|\n",
      "|Philippines|        65|\n",
      "|   Malaysia|         5|\n",
      "|     Turkey|         1|\n",
      "|     Malawi|         2|\n",
      "|    Germany|         5|\n",
      "|    Comoros|         1|\n",
      "|Afghanistan|         5|\n",
      "|     Rwanda|         1|\n",
      "|      Sudan|         1|\n",
      "|     France|        21|\n",
      "|     Greece|         8|\n",
      "|  Sri Lanka|         3|\n",
      "|   Dominica|         1|\n",
      "|  Argentina|        14|\n",
      "|    Belgium|         1|\n",
      "+-----------+----------+\n",
      "only showing top 20 rows\n",
      "\n"
     ]
    }
   ],
   "source": [
    "import pyspark.sql.functions as sqlfunc\n",
    "df1 = df.groupBy('Country').agg(sqlfunc.countDistinct('ip_address').alias('sum of ips'))\n",
    "df1.show()"
   ]
  }
 ],
 "metadata": {
  "colab": {
   "name": "Challenge.ipynb",
   "provenance": []
  },
  "kernelspec": {
   "display_name": "Python 3",
   "language": "python",
   "name": "python3"
  },
  "language_info": {
   "codemirror_mode": {
    "name": "ipython",
    "version": 3
   },
   "file_extension": ".py",
   "mimetype": "text/x-python",
   "name": "python",
   "nbconvert_exporter": "python",
   "pygments_lexer": "ipython3",
   "version": "3.7.3"
  }
 },
 "nbformat": 4,
 "nbformat_minor": 1
}
